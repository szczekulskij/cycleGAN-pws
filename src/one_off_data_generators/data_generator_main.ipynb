{
 "cells": [
  {
   "cell_type": "code",
   "execution_count": 10,
   "metadata": {},
   "outputs": [],
   "source": [
    "# One off to get all clinic pictures in the right place\n",
    "from offline_photo_processor import get_all_ambroziak_pws_pictures\n",
    "from utils import graph_multiple_images\n",
    "from matplotlib import pyplot as plt\n",
    "import cv2\n",
    "import os\n",
    "IMAGE_FOLDER = \"PWS-IMAGES-AMBROZIAK\"\n",
    "ambroziak_photos = get_all_ambroziak_pws_pictures(middle_only = True, image_type = \"2d_snapshots\")"
   ]
  },
  {
   "cell_type": "code",
   "execution_count": 3,
   "metadata": {},
   "outputs": [
    {
     "name": "stdout",
     "output_type": "stream",
     "text": [
      "len ambroziak_photos:  73\n"
     ]
    }
   ],
   "source": [
    "print(\"len ambroziak_photos: \", len(ambroziak_photos))"
   ]
  },
  {
   "cell_type": "code",
   "execution_count": 1,
   "metadata": {},
   "outputs": [],
   "source": [
    "# graph_multiple_images(ambroziak_photos)"
   ]
  },
  {
   "cell_type": "code",
   "execution_count": 5,
   "metadata": {},
   "outputs": [],
   "source": [
    "# Show image\n",
    "# # plt.imshow(ambroziak_photos[0])\n",
    "# cv2.imshow(\"Image\", ambroziak_photos[0])\n",
    "# # Wait for the user to press a key\n",
    "# cv2.waitKey(0)\n",
    "# # Close all windows\n",
    "# cv2.destroyAllWindows()"
   ]
  },
  {
   "cell_type": "code",
   "execution_count": 14,
   "metadata": {},
   "outputs": [
    {
     "name": "stdout",
     "output_type": "stream",
     "text": [
      "../PWS-IMAGES-AMBROZIAK/0.jpg\n",
      "../PWS-IMAGES-AMBROZIAK/1.jpg\n",
      "../PWS-IMAGES-AMBROZIAK/2.jpg\n",
      "../PWS-IMAGES-AMBROZIAK/3.jpg\n",
      "../PWS-IMAGES-AMBROZIAK/4.jpg\n",
      "../PWS-IMAGES-AMBROZIAK/5.jpg\n",
      "../PWS-IMAGES-AMBROZIAK/6.jpg\n",
      "../PWS-IMAGES-AMBROZIAK/7.jpg\n",
      "../PWS-IMAGES-AMBROZIAK/8.jpg\n",
      "../PWS-IMAGES-AMBROZIAK/9.jpg\n",
      "../PWS-IMAGES-AMBROZIAK/10.jpg\n",
      "../PWS-IMAGES-AMBROZIAK/11.jpg\n",
      "../PWS-IMAGES-AMBROZIAK/12.jpg\n",
      "../PWS-IMAGES-AMBROZIAK/13.jpg\n",
      "../PWS-IMAGES-AMBROZIAK/14.jpg\n",
      "../PWS-IMAGES-AMBROZIAK/15.jpg\n",
      "../PWS-IMAGES-AMBROZIAK/16.jpg\n",
      "../PWS-IMAGES-AMBROZIAK/17.jpg\n",
      "../PWS-IMAGES-AMBROZIAK/18.jpg\n",
      "../PWS-IMAGES-AMBROZIAK/19.jpg\n",
      "../PWS-IMAGES-AMBROZIAK/20.jpg\n",
      "../PWS-IMAGES-AMBROZIAK/21.jpg\n",
      "../PWS-IMAGES-AMBROZIAK/22.jpg\n",
      "../PWS-IMAGES-AMBROZIAK/23.jpg\n",
      "../PWS-IMAGES-AMBROZIAK/24.jpg\n",
      "../PWS-IMAGES-AMBROZIAK/25.jpg\n",
      "../PWS-IMAGES-AMBROZIAK/26.jpg\n",
      "../PWS-IMAGES-AMBROZIAK/27.jpg\n",
      "../PWS-IMAGES-AMBROZIAK/28.jpg\n",
      "../PWS-IMAGES-AMBROZIAK/29.jpg\n",
      "../PWS-IMAGES-AMBROZIAK/30.jpg\n",
      "../PWS-IMAGES-AMBROZIAK/31.jpg\n",
      "../PWS-IMAGES-AMBROZIAK/32.jpg\n",
      "../PWS-IMAGES-AMBROZIAK/33.jpg\n",
      "../PWS-IMAGES-AMBROZIAK/34.jpg\n",
      "../PWS-IMAGES-AMBROZIAK/35.jpg\n",
      "../PWS-IMAGES-AMBROZIAK/36.jpg\n",
      "../PWS-IMAGES-AMBROZIAK/37.jpg\n",
      "../PWS-IMAGES-AMBROZIAK/38.jpg\n",
      "../PWS-IMAGES-AMBROZIAK/39.jpg\n",
      "../PWS-IMAGES-AMBROZIAK/40.jpg\n",
      "../PWS-IMAGES-AMBROZIAK/41.jpg\n",
      "../PWS-IMAGES-AMBROZIAK/42.jpg\n",
      "../PWS-IMAGES-AMBROZIAK/43.jpg\n",
      "../PWS-IMAGES-AMBROZIAK/44.jpg\n",
      "../PWS-IMAGES-AMBROZIAK/45.jpg\n",
      "../PWS-IMAGES-AMBROZIAK/46.jpg\n",
      "../PWS-IMAGES-AMBROZIAK/47.jpg\n",
      "../PWS-IMAGES-AMBROZIAK/48.jpg\n",
      "../PWS-IMAGES-AMBROZIAK/49.jpg\n",
      "../PWS-IMAGES-AMBROZIAK/50.jpg\n",
      "../PWS-IMAGES-AMBROZIAK/51.jpg\n",
      "../PWS-IMAGES-AMBROZIAK/52.jpg\n",
      "../PWS-IMAGES-AMBROZIAK/53.jpg\n",
      "../PWS-IMAGES-AMBROZIAK/54.jpg\n",
      "../PWS-IMAGES-AMBROZIAK/55.jpg\n",
      "../PWS-IMAGES-AMBROZIAK/56.jpg\n",
      "../PWS-IMAGES-AMBROZIAK/57.jpg\n",
      "../PWS-IMAGES-AMBROZIAK/58.jpg\n",
      "../PWS-IMAGES-AMBROZIAK/59.jpg\n",
      "../PWS-IMAGES-AMBROZIAK/60.jpg\n",
      "../PWS-IMAGES-AMBROZIAK/61.jpg\n",
      "../PWS-IMAGES-AMBROZIAK/62.jpg\n",
      "../PWS-IMAGES-AMBROZIAK/63.jpg\n",
      "../PWS-IMAGES-AMBROZIAK/64.jpg\n",
      "../PWS-IMAGES-AMBROZIAK/65.jpg\n",
      "../PWS-IMAGES-AMBROZIAK/66.jpg\n",
      "../PWS-IMAGES-AMBROZIAK/67.jpg\n",
      "../PWS-IMAGES-AMBROZIAK/68.jpg\n",
      "../PWS-IMAGES-AMBROZIAK/69.jpg\n",
      "../PWS-IMAGES-AMBROZIAK/70.jpg\n",
      "../PWS-IMAGES-AMBROZIAK/71.jpg\n",
      "../PWS-IMAGES-AMBROZIAK/72.jpg\n"
     ]
    }
   ],
   "source": [
    "IMAGE_PATH = \"../../PWS-IMAGES-AMBROZIAK\"\n",
    "for index, image in enumerate(ambroziak_photos):\n",
    "    filename =  IMAGE_PATH + \"/\" + str(index) + \".jpg\"\n",
    "    # os.getcwd() +\n",
    "    print(filename)\n",
    "    cv2.imwrite(filename, image)"
   ]
  },
  {
   "cell_type": "code",
   "execution_count": null,
   "metadata": {},
   "outputs": [],
   "source": []
  }
 ],
 "metadata": {
  "kernelspec": {
   "display_name": "Python 3",
   "language": "python",
   "name": "python3"
  },
  "language_info": {
   "codemirror_mode": {
    "name": "ipython",
    "version": 3
   },
   "file_extension": ".py",
   "mimetype": "text/x-python",
   "name": "python",
   "nbconvert_exporter": "python",
   "pygments_lexer": "ipython3",
   "version": "3.10.9"
  },
  "orig_nbformat": 4
 },
 "nbformat": 4,
 "nbformat_minor": 2
}
