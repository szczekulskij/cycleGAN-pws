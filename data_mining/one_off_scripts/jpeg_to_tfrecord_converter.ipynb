{
 "cells": [
  {
   "cell_type": "code",
   "execution_count": 1,
   "metadata": {},
   "outputs": [
    {
     "name": "stderr",
     "output_type": "stream",
     "text": [
      "2023-10-29 12:12:42.407122: I tensorflow/core/platform/cpu_feature_guard.cc:193] This TensorFlow binary is optimized with oneAPI Deep Neural Network Library (oneDNN) to use the following CPU instructions in performance-critical operations:  SSE4.1 SSE4.2\n",
      "To enable them in other operations, rebuild TensorFlow with the appropriate compiler flags.\n"
     ]
    },
    {
     "ename": "",
     "evalue": "",
     "output_type": "error",
     "traceback": [
      "\u001b[1;31mThe Kernel crashed while executing code in the the current cell or a previous cell. Please review the code in the cell(s) to identify a possible cause of the failure. Click <a href='https://aka.ms/vscodeJupyterKernelCrash'>here</a> for more info. View Jupyter <a href='command:jupyter.viewOutput'>log</a> for further details."
     ]
    }
   ],
   "source": [
    "import numpy as np\n",
    "import pandas as pd\n",
    "import os\n",
    "from tqdm import tqdm\n",
    "import tensorflow.compat.v1 as tf\n",
    "import skimage\n",
    "import skimage.io"
   ]
  },
  {
   "cell_type": "code",
   "execution_count": null,
   "metadata": {},
   "outputs": [],
   "source": [
    "# def _image_feature(value):\n",
    "#     \"\"\"Returns a bytes_list from a string / byte.\"\"\"\n",
    "#     return tf.train.Feature(bytes_list=tf.train.BytesList(value=[tf.io.encode_jpeg(value).numpy()]))\n",
    "\n",
    "def _image_feature(value):\n",
    "    return tf.train.Feature(bytes_list=tf.train.BytesList(value=[value.tobytes()]))\n",
    "\n",
    "def chunk_list(lst: list, chunk_size: int):\n",
    "    assert type(chunk_size) == int\n",
    "    assert type(lst) == list\n",
    "    return [lst[i:i + chunk_size] for i in range(0, len(lst), chunk_size)]  \n",
    "\n",
    "def single_tf_records(filenames, output_dir, tf_record_name):\n",
    "    images = []\n",
    "    for filename in filenames:\n",
    "        images.append(skimage.io.imread(filename)) # read image from filename\n",
    "    images_array = np.array(images)\n",
    "\n",
    "    TFRecord_filename = os.path.join(output_dir, str(tf_record_name) + '.tfrecords')\n",
    "    print('Writing', TFRecord_filename)\n",
    "    writer = tf.python_io.TFRecordWriter(TFRecord_filename)\n",
    "    for image in images_array:\n",
    "        try: \n",
    "            feature = tf.train.Features(feature={'image': _image_feature(image)})\n",
    "            example = tf.train.Example(features=feature)\n",
    "            writer.write(example.SerializeToString())\n",
    "        except: \n",
    "            print(\"lol\")\n",
    "            \n",
    "\n",
    "\n",
    "\n",
    "\n",
    "def convert_n_save_jpgs_to_TFRecords(input_dir, output_dir, chunk_size):\n",
    "    try: os.mkdir(output_dir)\n",
    "    except: pass\n",
    "    filenames = tf.io.gfile.glob(input_dir)\n",
    "    filenames_chunk_list = chunk_list(filenames, chunk_size)\n",
    "    for index, filenames_chunk in enumerate(filenames_chunk_list):\n",
    "#         if index > 11:\n",
    "        if index <= 11:\n",
    "            pass\n",
    "        else:\n",
    "            single_tf_records(filenames_chunk, output_dir, index)\n",
    "        "
   ]
  },
  {
   "cell_type": "code",
   "execution_count": null,
   "metadata": {},
   "outputs": [],
   "source": [
    "PWS_FACES_PATH = \"../../data/PWS-IMAGES*.jpg\"\n",
    "convert_n_save_jpgs_to_TFRecords(PWS_FACES_PATH, \"pws-images-tfrecord\", 47)"
   ]
  },
  {
   "cell_type": "code",
   "execution_count": null,
   "metadata": {},
   "outputs": [],
   "source": [
    "HUMAN_FACES_PATH = \"/kaggle/input/human-faces/Humans/*.jpg\"\n",
    "convert_n_save_jpgs_to_TFRecords(HUMAN_FACES_PATH, \"human-faces-images-tfrecord\", 350)"
   ]
  }
 ],
 "metadata": {
  "kernelspec": {
   "display_name": "Python 3",
   "language": "python",
   "name": "python3"
  },
  "language_info": {
   "codemirror_mode": {
    "name": "ipython",
    "version": 3
   },
   "file_extension": ".py",
   "mimetype": "text/x-python",
   "name": "python",
   "nbconvert_exporter": "python",
   "pygments_lexer": "ipython3",
   "version": "3.10.9"
  },
  "orig_nbformat": 4
 },
 "nbformat": 4,
 "nbformat_minor": 2
}
