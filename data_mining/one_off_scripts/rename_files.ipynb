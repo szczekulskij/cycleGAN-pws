{
 "cells": [
  {
   "cell_type": "code",
   "execution_count": 3,
   "metadata": {},
   "outputs": [],
   "source": [
    "import os\n",
    "OG_FOLDER_PATH = \"../../PWS-IMAGES\"\n",
    "\n",
    "for index, filename in enumerate(os.listdir(OG_FOLDER_PATH)):\n",
    "    filename = os.path.join(OG_FOLDER_PATH, filename)\n",
    "    if os.path.isfile(filename):\n",
    "        new_filename = f'original-size-img-{index}.jpg'\n",
    "        new_filename = os.path.join(OG_FOLDER_PATH, new_filename)\n",
    "        os.rename(filename, new_filename)\n"
   ]
  },
  {
   "cell_type": "code",
   "execution_count": null,
   "metadata": {},
   "outputs": [],
   "source": []
  }
 ],
 "metadata": {
  "kernelspec": {
   "display_name": "Python 3",
   "language": "python",
   "name": "python3"
  },
  "language_info": {
   "codemirror_mode": {
    "name": "ipython",
    "version": 3
   },
   "file_extension": ".py",
   "mimetype": "text/x-python",
   "name": "python",
   "nbconvert_exporter": "python",
   "pygments_lexer": "ipython3",
   "version": "3.10.9"
  },
  "orig_nbformat": 4
 },
 "nbformat": 4,
 "nbformat_minor": 2
}
